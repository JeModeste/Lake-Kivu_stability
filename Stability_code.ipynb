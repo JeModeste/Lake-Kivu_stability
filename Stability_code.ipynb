{
  "cells": [
    {
      "cell_type": "markdown",
      "id": "aging-program",
      "metadata": {
        "id": "aging-program"
      },
      "source": [
        "# CODE FOR LAKE STABILITY AND BUOYANCY FREQUENCY"
      ]
    },
    {
      "cell_type": "markdown",
      "id": "moderate-gambling",
      "metadata": {
        "id": "moderate-gambling"
      },
      "source": [
        "# <font color=red>Read me before running the code <font>\n",
        "\n",
        "This jupyter file contains python code for calculating lake stability and safety margin. To runn consistently the provided codes should be better to consider the guidance and keypoints as mentioned below:\n",
        "\n",
        "\n",
        "1.  This code requires three kinds of data which vary to depth. The first type is the one that contains the vertical profiles for temperature, pressure, and salinity; the second must contains CO2 and CH4; and the last data must contains area.\n",
        "\n",
        "\n",
        "2.  Start by creating new folder which will be composed by other three sub-folders corresponding to the required data.\n",
        "\n",
        "\n",
        "3.  All data files must be in __.xlsx__ format.\n",
        "\n",
        "\n",
        "4.  After copying the data in each and evry sub-folder, make sure that the data are clean without having any missing entry and negative depth value.\n",
        "\n",
        "\n",
        "5.  Check if the required columns are named as: \n",
        "    \n",
        "    -  __<font color=orange>Depth (m)<font>__         \n",
        "    -  __<font color=orange>Press_corr<font>__  \n",
        "    -  __<font color=orange>Temp<font>__  \n",
        "    -  __<font color=orange>Salinity (g/l)<font>__  \n",
        "    -  __<font color=orange>CO2 concentration (mol/l)<font>__  \n",
        "    -  __<font color=orange>CH4 concentration (mol/l)<font>__\n",
        "    -  __<font color=orange>area km2<font>__\n",
        "    \n",
        "    __<font color=black>It is better to copy from here each name and positioning it in the data files.<font>__\n",
        "\n",
        "\n",
        "6.  Within the code there is only cell that requires to change some code lines (__Cell 2__) where more information are given as comments in that cell.\n",
        "\n",
        "\n",
        "7.  Run every cell that contains codes without jumping any code. Be informed that any line which is satarting with __# symbol__ stands for comment (don't remove the symbol). "
      ]
    },
    {
      "cell_type": "markdown",
      "id": "consistent-springer",
      "metadata": {
        "id": "consistent-springer"
      },
      "source": [
        "### Cell 1: For libraries, don't change anything within the cell"
      ]
    },
    {
      "cell_type": "code",
      "execution_count": null,
      "id": "healthy-removal",
      "metadata": {
        "id": "healthy-removal"
      },
      "outputs": [],
      "source": [
        "import pandas as pd\n",
        "import os\n",
        "import glob\n",
        "import numpy as np\n",
        "import seawater as sw\n",
        "from seawater.constants import OMEGA, earth_radius\n",
        "import matplotlib.pyplot as plt\n",
        "from matplotlib.pyplot import figure\n",
        "import warnings\n",
        "warnings.filterwarnings('ignore')"
      ]
    },
    {
      "cell_type": "markdown",
      "id": "measured-snake",
      "metadata": {
        "id": "measured-snake"
      },
      "source": [
        "### Cell 2: For requirements, make changes by reading the comment (#) lines for guidence "
      ]
    },
    {
      "cell_type": "code",
      "execution_count": null,
      "id": "english-provider",
      "metadata": {
        "id": "english-provider"
      },
      "outputs": [],
      "source": [
        "####################################################################################################################\n",
        "#################### Change every line here except the ones for comments (#) #######################################\n",
        "####################################################################################################################\n",
        "\n",
        "#------ Path for the location where files for data that contains depth, temp, pressure, salinity,... are saved------\n",
        "\n",
        "path_1 = '/home/modeste/Desktop/Test_code/Folder_1'\n",
        "\n",
        "#------ Path for the location where one file for gas data:depth, CO2, CH4,... is saved------------------------------\n",
        "\n",
        "path_2 = '/home/modeste/Desktop/Test_code/Folder_2/DT_3.xlsx'\n",
        " \n",
        "#------ Path for the location where one file for area data:depth, area,... is saved---------------------------------\n",
        "\n",
        "path_3 = '/home/modeste/Desktop/Test_code/Folder_3/area.xlsx'\n",
        "\n",
        "#------ The depth increment in meter that you wish to consider for the mean ----------------------------------------\n",
        "\n",
        "step = 3\n",
        "\n",
        "#------ Latitude which should be cosnidered during buoyancy frequency computation ----------------------------------\n",
        "\n",
        "lat = [-1.80126]\n",
        "\n",
        "#------ the path for the location where the outputs shuold be saved ------------------------------------------------\n",
        "\n",
        "path_4 = '/home/modeste/Desktop/Test_code'\n",
        "\n",
        "##################################### END OF CHANGES ###############################################################"
      ]
    },
    {
      "cell_type": "markdown",
      "id": "strategic-remedy",
      "metadata": {
        "id": "strategic-remedy"
      },
      "source": [
        "### Cell 4: Mean computation for the data  at certain depth"
      ]
    },
    {
      "cell_type": "code",
      "execution_count": null,
      "id": "unexpected-belgium",
      "metadata": {
        "id": "unexpected-belgium"
      },
      "outputs": [],
      "source": [
        "####################################################################################################################\n",
        "#################### continue without changing anything below, just run every cell with codes ######################\n",
        "####################################################################################################################\n",
        "\n",
        "os.mkdir(path_1+'/Mean_1')\n",
        "os.mkdir(path_4+'/Output')"
      ]
    },
    {
      "cell_type": "code",
      "execution_count": null,
      "id": "recovered-humidity",
      "metadata": {
        "id": "recovered-humidity"
      },
      "outputs": [],
      "source": [
        "def compute_mean(df, step, use_columns):\n",
        "    max_depth = int(df['Depth (m)'].max())\n",
        "    result = []\n",
        "    if type (step) == float and step >= 0.5:\n",
        "        for i in np.arange(step,max_depth+2*step, step):\n",
        "            v = [i-step] + list(df[(df['Depth (m)'] >= i-step) & (df['Depth (m)'] < i)].mean())[1:]\n",
        "            result.append(v)\n",
        "    elif type (step) == int:\n",
        "        for i in np.arange(step,max_depth+2*step, step):\n",
        "            v = [i-step] + list(df[(df['Depth (m)'] >= i-step) & (df['Depth (m)'] < i)].mean())[1:]\n",
        "            result.append(v)\n",
        "    else:\n",
        "        message = print(\"The step can't work\")\n",
        "    \n",
        "    df = pd.DataFrame(result, columns= use_columns)\n",
        "    \n",
        "    return df"
      ]
    },
    {
      "cell_type": "markdown",
      "id": "mineral-poland",
      "metadata": {
        "id": "mineral-poland"
      },
      "source": [
        "__For varied data__"
      ]
    },
    {
      "cell_type": "code",
      "execution_count": null,
      "id": "rental-mother",
      "metadata": {
        "id": "rental-mother"
      },
      "outputs": [],
      "source": [
        "input_files = glob.glob(os.path.join(path_1, \"*.xlsx\"))\n",
        "for iteration, file in enumerate(input_files):\n",
        "    use_columns_3 = ['Depth (m)', 'Press_corr', 'Temp', ' Salinity (g/l)']\n",
        "    DF_C = pd.read_excel(file, usecols = use_columns_3)\n",
        "    results_3 = compute_mean(DF_C, step, use_columns_3)\n",
        "    results_3.to_excel(f\"{path_1}/Mean_1/File_{iteration}.xlsx\", index = False)"
      ]
    },
    {
      "cell_type": "markdown",
      "id": "married-retention",
      "metadata": {
        "id": "married-retention"
      },
      "source": [
        "__For gases__"
      ]
    },
    {
      "cell_type": "code",
      "execution_count": null,
      "id": "premium-graduate",
      "metadata": {
        "id": "premium-graduate"
      },
      "outputs": [],
      "source": [
        "DF_A = pd.read_excel(path_2, index_col=False)\n",
        "use_columns_1 = ['Depth (m)','CO2 concentration (mol/l)', 'CH4 concentration (mol/l)']\n",
        "DF_1 = pd.DataFrame(DF_A, columns = use_columns_1) \n",
        "results_1 = compute_mean(DF_1, step, use_columns_1)"
      ]
    },
    {
      "cell_type": "markdown",
      "id": "processed-introduction",
      "metadata": {
        "id": "processed-introduction"
      },
      "source": [
        "__For area__"
      ]
    },
    {
      "cell_type": "code",
      "execution_count": null,
      "id": "physical-albert",
      "metadata": {
        "id": "physical-albert"
      },
      "outputs": [],
      "source": [
        "DF_B = pd.read_excel(path_3, index_col = False)\n",
        "use_columns_2 = ['Depth (m)','area km2']\n",
        "DF_2 = pd.DataFrame(DF_B, columns = use_columns_2)\n",
        "results_2 = compute_mean(DF_2, step, use_columns_2)"
      ]
    },
    {
      "cell_type": "markdown",
      "id": "numeric-velvet",
      "metadata": {
        "id": "numeric-velvet"
      },
      "source": [
        "### Cell 5: For merging the files with respect to the number of the files in the given period"
      ]
    },
    {
      "cell_type": "code",
      "execution_count": null,
      "id": "linear-notebook",
      "metadata": {
        "id": "linear-notebook"
      },
      "outputs": [],
      "source": [
        "files = glob.glob(os.path.join(path_1+'/Mean_1', \"*.xlsx\"))\n",
        "merged = pd.concat(map(pd.read_excel, files), ignore_index = True)\n",
        "grouped_df = merged.groupby(['Depth (m)']).agg({\"Press_corr\": 'mean', \"Temp\": 'mean', \" Salinity (g/l)\": 'mean'})\n",
        "combined = grouped_df.reset_index()\n",
        "combined['CO2 concentration (mol/l)'] = results_1['CO2 concentration (mol/l)']\n",
        "combined['CH4 concentration (mol/l)'] = results_1['CH4 concentration (mol/l)']\n",
        "combined['area km2'] = results_2['area km2']"
      ]
    },
    {
      "cell_type": "markdown",
      "id": "packed-measurement",
      "metadata": {
        "id": "packed-measurement"
      },
      "source": [
        "### Cell 6: For calculating densities at various depth levels"
      ]
    },
    {
      "cell_type": "code",
      "execution_count": null,
      "id": "prostate-poetry",
      "metadata": {
        "id": "prostate-poetry"
      },
      "outputs": [],
      "source": [
        "def calculate_densities(combined):\n",
        "    combined['Temperature'] = combined['Temp']\n",
        "    combined['CO2 (mol/l)'] = combined['CO2 concentration (mol/l)']\n",
        "    combined['CH4 (mol/l)'] = combined['CH4 concentration (mol/l)']\n",
        "    pf = combined\n",
        "    pf['T2'] = pf['Temperature']**2\n",
        "    pf['T3'] = pf['Temperature']**3\n",
        "    pf['T4'] = pf['Temperature']**4\n",
        "    pf['T5'] = pf['Temperature']**5\n",
        "    pf['T6'] = pf['Temperature']**6 \n",
        "    pf['p(T)'] = (0.9998395+6.7914E-5*pf['Temperature']-9.0894E-6*pf['T2']+1.017E-7*pf['T3']-1.2846E-9*pf['T4']+1.1592E-11*pf['T5']-5.0125E-14*pf['T6'])*1000\n",
        "    pf['p(T,S)'] = pf['p(T)']*(1+(0.00075*pf[' Salinity (g/l)']))\n",
        "    pf['p(T,S,CO2)'] = pf['p(T)']*(1+0.00075*pf[' Salinity (g/l)']+0.000284*pf['CO2 (mol/l)']*44.0099)\n",
        "    pf['p(T,S,CH4)'] = pf['p(T)']*(1+0.00075*pf[' Salinity (g/l)']-0.00125*pf['CH4 (mol/l)']*16.04)\n",
        "    pf['p(T,S,CH4,CO2)'] = pf['p(T)']*(1+0.00075*pf[' Salinity (g/l)']-0.00125*pf['CH4 (mol/l)']*16.04+0.000284*pf['CO2 (mol/l)']*44.0099)\n",
        "    return pf"
      ]
    },
    {
      "cell_type": "code",
      "execution_count": null,
      "id": "encouraging-velvet",
      "metadata": {
        "id": "encouraging-velvet"
      },
      "outputs": [],
      "source": [
        "data = calculate_densities(combined)\n",
        "data.to_excel(f\"{path_4}/Output/Final_dataset.xlsx\", index = False)"
      ]
    },
    {
      "cell_type": "markdown",
      "id": "cognitive-register",
      "metadata": {
        "id": "cognitive-register"
      },
      "source": [
        "__Plot for vertical density profiles__"
      ]
    },
    {
      "cell_type": "code",
      "execution_count": null,
      "id": "documentary-tulsa",
      "metadata": {
        "id": "documentary-tulsa"
      },
      "outputs": [],
      "source": [
        "#----- Generated plot in this cell will be displayed and saved simultaneously--------------------------\n",
        "\n",
        "\n",
        "figure(figsize = (6, 6), dpi = 80)\n",
        "\n",
        "plt.plot(data['p(T)'], data['Depth (m)'] ,'b', linewidth = 2.5, label = r\"$\\rho (T)$\")\n",
        "plt.plot(data['p(T,S)'], data['Depth (m)'], 'r', linewidth = 2.5, label = r\"$\\rho (T,S)$\")\n",
        "plt.plot(data['p(T,S,CH4)'], data['Depth (m)'], 'y',  linewidth = 2.5, label = r\"$\\rho (T,S,CH_4)$\")\n",
        "plt.plot(data['p(T,S,CO2)'], data['Depth (m)'], 'black',  linewidth = 2.5, label = r\"$\\rho (T,S,CO_2)$\")\n",
        "plt.plot(data['p(T,S,CH4,CO2)'], data['Depth (m)'], 'indigo',  linewidth = 2.5, label = r\"$\\rho (T,S,CH_4,CO_2)$\")\n",
        "plt.ylim(0, data['Depth (m)'].max() + 20)\n",
        "\n",
        "plt.legend(loc = \"upper right\")\n",
        "plt.gca().invert_yaxis()\n",
        "plt.ylabel(\"Depth (m)\", fontweight = 'bold')\n",
        "plt.xlabel(\"Density ( kg/m^3)\", fontweight = 'bold')\n",
        "plt.grid()\n",
        "plt.savefig(f\"{path_4}/Output/Figure_1.png\", dpi = 300, bbox_inches = 'tight')"
      ]
    },
    {
      "cell_type": "markdown",
      "id": "early-quality",
      "metadata": {
        "id": "early-quality"
      },
      "source": [
        "__Mean density and its corresponding depth__"
      ]
    },
    {
      "cell_type": "code",
      "execution_count": null,
      "id": "enabling-trace",
      "metadata": {
        "id": "enabling-trace"
      },
      "outputs": [],
      "source": [
        "Mean_dens = data['p(T,S,CH4,CO2)'].mean()\n",
        "DT = data\n",
        "DT['Tolerance'] = abs(DT['p(T,S,CH4,CO2)'] - Mean_dens)\n",
        "for i in range(DT.shape[0]):\n",
        "    if DT['Tolerance'][i] == DT['Tolerance'].min():\n",
        "        Z_mean= DT['Depth (m)'][i]\n",
        "print(\"Mean density is:\", Mean_dens, \"kg/m^3, and the corresponding mean depth is:\", Z_mean, \"m\")"
      ]
    },
    {
      "cell_type": "markdown",
      "id": "superb-section",
      "metadata": {
        "id": "superb-section"
      },
      "source": [
        "### Cell 7: Calculation of stability"
      ]
    },
    {
      "cell_type": "code",
      "execution_count": null,
      "id": "lyric-bullet",
      "metadata": {
        "id": "lyric-bullet"
      },
      "outputs": [],
      "source": [
        "DATA = data\n",
        "ss = 0\n",
        "for i in range(DATA.shape[0]):\n",
        "    ss = ss + (DATA['Depth (m)'][i] - Z_mean)*(DATA['p(T,S,CH4,CO2)'][i] - Mean_dens)*DATA['area km2'][i]\n",
        "ss = (9.81/2730)*ss    \n",
        "print(\"Calculated stability is:\", ss, \"J/m^2\")"
      ]
    },
    {
      "cell_type": "markdown",
      "id": "suffering-benchmark",
      "metadata": {
        "id": "suffering-benchmark"
      },
      "source": [
        "### Cell 8: Buoyancy frequency"
      ]
    },
    {
      "cell_type": "code",
      "execution_count": null,
      "id": "dimensional-lounge",
      "metadata": {
        "id": "dimensional-lounge"
      },
      "outputs": [],
      "source": [
        "def N(bvfr2):\n",
        "    \"\"\"\n",
        "    Buoyancy frequency is the frequency with which a parcel or particle of\n",
        "    fluid displaced a small vertical distance from its equilibrium position in\n",
        "    a stable environment will oscillate. It will oscillate in simple harmonic\n",
        "    motion with an angular frequency defined by\n",
        "    .. math:: N = \\\\left(\\\\frac{-g}{\\\\sigma_{\\\\theta}}\n",
        "              \\\\frac{d\\\\sigma_{\\\\theta}}{dz}\\\\right)^{2}\n",
        "    Parameters\n",
        "    ----------\n",
        "    n2 : array_like\n",
        "         Brünt-Väisälä Frequency squared [s :sup:`-2`]\n",
        "    Returns\n",
        "    -------\n",
        "    n : array_like\n",
        "        Brünt-Väisälä Frequency not-squared [s :sup:`-1`]\n",
        "    Examples\n",
        "    --------\n",
        "    >>> import numpy as np\n",
        "    >>> import oceans.sw_extras.sw_extras as swe\n",
        "    >>> s = np.array([[0, 0, 0], [15, 15, 15], [30, 30, 30],[35,35,35]])\n",
        "    >>> t = np.repeat(15, s.size).reshape(s.shape)\n",
        "    >>> p = [[0], [250], [500], [1000]]\n",
        "    >>> lat = [30,32,35]\n",
        "    >>> swe.N(sw.bfrq(s, t, p, lat)[0])\n",
        "    array([[0.02124956, 0.02125302, 0.02125843],\n",
        "           [0.02110919, 0.02111263, 0.02111801],\n",
        "           [0.00860812, 0.00860952, 0.00861171]])\n",
        "    References\n",
        "    ----------\n",
        "    A.E. Gill 1982. p.54  eqn 3.7.15 \"Atmosphere-Ocean Dynamics\"\n",
        "    Academic Press: New York. ISBN: 0-12-283522-0\n",
        "    Jackett, David R., Trevor J. Mcdougall, 1995: Minimal Adjustment of\n",
        "    Hydrographic Profiles to Achieve Static Stability. J. Atmos. Oceanic\n",
        "    Technol., 12, 381-389. doi: 10.1175/1520-0426(1995)012<0381:MAOHPT>2.0.CO;2\n",
        "    \"\"\"\n",
        "    bvfr2 = np.asanyarray(bvfr2)\n",
        "    return np.sqrt(np.abs(bvfr2)) * np.sign(bvfr2)"
      ]
    },
    {
      "cell_type": "code",
      "execution_count": null,
      "id": "handy-oxford",
      "metadata": {
        "id": "handy-oxford"
      },
      "outputs": [],
      "source": [
        "s = data[' Salinity (g/l)'].values\n",
        "t = data['Temp'].values\n",
        "p = data['Press_corr'].values\n",
        "N_BF = N(sw.bfrq(s, t, p, lat)[0])\n",
        "data_BF = pd.concat([data, pd.DataFrame(N_BF, columns = ['N'])], axis = 1)\n",
        "data_BF['N^2'] = data_BF['N']**2"
      ]
    },
    {
      "cell_type": "markdown",
      "id": "fallen-detective",
      "metadata": {
        "id": "fallen-detective"
      },
      "source": [
        "__Plot for safety margin__"
      ]
    },
    {
      "cell_type": "code",
      "execution_count": null,
      "id": "dried-roommate",
      "metadata": {
        "id": "dried-roommate"
      },
      "outputs": [],
      "source": [
        "#----- Generated plot in this cell will be displayed and saved simultaneously--------------------------\n",
        "\n",
        "figure(figsize = (6, 6), dpi = 80)\n",
        "\n",
        "plt.plot(data_BF['N^2'].values, data_BF['Depth (m)'].values, color = 'blue')\n",
        "plt.gca().invert_yaxis()\n",
        "plt.xlabel('$N^2$ (1/s^2)')\n",
        "plt.ylabel('Depth (m)')\n",
        "plt.grid()\n",
        "plt.savefig(f\"{path_4}/Output/Figure_2.png\", dpi = 300, bbox_inches = 'tight')\n",
        "#plt.savefig('/home/modeste/Rema/For_Graphs/plots/With_python/DT_2010_2015.png', dpi = 300, bbox_inches = 'tight')"
      ]
    },
    {
      "cell_type": "markdown",
      "id": "marine-bleeding",
      "metadata": {
        "id": "marine-bleeding"
      },
      "source": [
        "#### <font color=red>If you wish to run the code again, please go and change the required code lines in cell 2.  Other wise the code will run wrongly.<font>"
      ]
    }
  ],
  "metadata": {
    "kernelspec": {
      "display_name": "Python 3",
      "language": "python",
      "name": "python3"
    },
    "language_info": {
      "codemirror_mode": {
        "name": "ipython",
        "version": 3
      },
      "file_extension": ".py",
      "mimetype": "text/x-python",
      "name": "python",
      "nbconvert_exporter": "python",
      "pygments_lexer": "ipython3",
      "version": "3.9.2"
    },
    "colab": {
      "provenance": []
    }
  },
  "nbformat": 4,
  "nbformat_minor": 5
}